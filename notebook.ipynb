{
  "nbformat": 4,
  "nbformat_minor": 0,
  "metadata": {
    "kernelspec": {
      "display_name": "Python 3",
      "language": "python",
      "name": "python3"
    },
    "language_info": {
      "codemirror_mode": {
        "name": "ipython",
        "version": 3
      },
      "file_extension": ".py",
      "mimetype": "text/x-python",
      "name": "python",
      "nbconvert_exporter": "python",
      "pygments_lexer": "ipython3",
      "version": "3.7.4"
    },
    "colab": {
      "name": "notebook.ipynb",
      "provenance": [],
      "include_colab_link": true
    }
  },
  "cells": [
    {
      "cell_type": "markdown",
      "metadata": {
        "id": "view-in-github",
        "colab_type": "text"
      },
      "source": [
        "<a href=\"https://colab.research.google.com/github/amosTimi/amos_hamoye_solutions/blob/master/notebook.ipynb\" target=\"_parent\"><img src=\"https://colab.research.google.com/assets/colab-badge.svg\" alt=\"Open In Colab\"/></a>"
      ]
    },
    {
      "cell_type": "code",
      "metadata": {
        "id": "L1xzQYMInOLx",
        "colab_type": "code",
        "colab": {}
      },
      "source": [
        "import numpy as np\n",
        "import pandas as pd\n",
        "import matplotlib.pyplot as plt\n",
        "import seaborn as sns\n",
        "%matplotlib inline"
      ],
      "execution_count": null,
      "outputs": []
    },
    {
      "cell_type": "code",
      "metadata": {
        "id": "1aFmQYNUnOMC",
        "colab_type": "code",
        "colab": {}
      },
      "source": [
        "# Code below works when using colab\n",
        "\n",
        "#url = 'https://raw.githubusercontent.com/WalePhenomenon/climate_change/master/fuel_ferc1.csv'\n",
        "#fuel_data = pd.read_csv(url)\n",
        "#fuel_data.head()\n",
        "#fuel_data.to_csv('fuel_data.csv')"
      ],
      "execution_count": null,
      "outputs": []
    },
    {
      "cell_type": "code",
      "metadata": {
        "id": "edmeIwyYnOMT",
        "colab_type": "code",
        "colab": {},
        "outputId": "1c107532-ba19-4f5e-c28f-b321f065effc"
      },
      "source": [
        "# I have already downloaded the csv file, so I just import it normally with pd.read_csv()\n",
        "fuel_data = pd.read_csv('fuel_data.csv',index_col=0)\n",
        "fuel_data.head()"
      ],
      "execution_count": null,
      "outputs": [
        {
          "output_type": "execute_result",
          "data": {
            "text/html": [
              "<div>\n",
              "<style scoped>\n",
              "    .dataframe tbody tr th:only-of-type {\n",
              "        vertical-align: middle;\n",
              "    }\n",
              "\n",
              "    .dataframe tbody tr th {\n",
              "        vertical-align: top;\n",
              "    }\n",
              "\n",
              "    .dataframe thead th {\n",
              "        text-align: right;\n",
              "    }\n",
              "</style>\n",
              "<table border=\"1\" class=\"dataframe\">\n",
              "  <thead>\n",
              "    <tr style=\"text-align: right;\">\n",
              "      <th></th>\n",
              "      <th>record_id</th>\n",
              "      <th>utility_id_ferc1</th>\n",
              "      <th>report_year</th>\n",
              "      <th>plant_name_ferc1</th>\n",
              "      <th>fuel_type_code_pudl</th>\n",
              "      <th>fuel_unit</th>\n",
              "      <th>fuel_qty_burned</th>\n",
              "      <th>fuel_mmbtu_per_unit</th>\n",
              "      <th>fuel_cost_per_unit_burned</th>\n",
              "      <th>fuel_cost_per_unit_delivered</th>\n",
              "      <th>fuel_cost_per_mmbtu</th>\n",
              "    </tr>\n",
              "  </thead>\n",
              "  <tbody>\n",
              "    <tr>\n",
              "      <td>0</td>\n",
              "      <td>f1_fuel_1994_12_1_0_7</td>\n",
              "      <td>1</td>\n",
              "      <td>1994</td>\n",
              "      <td>rockport</td>\n",
              "      <td>coal</td>\n",
              "      <td>ton</td>\n",
              "      <td>5377489.0</td>\n",
              "      <td>16.590</td>\n",
              "      <td>18.59</td>\n",
              "      <td>18.53</td>\n",
              "      <td>1.121</td>\n",
              "    </tr>\n",
              "    <tr>\n",
              "      <td>1</td>\n",
              "      <td>f1_fuel_1994_12_1_0_10</td>\n",
              "      <td>1</td>\n",
              "      <td>1994</td>\n",
              "      <td>rockport total plant</td>\n",
              "      <td>coal</td>\n",
              "      <td>ton</td>\n",
              "      <td>10486945.0</td>\n",
              "      <td>16.592</td>\n",
              "      <td>18.58</td>\n",
              "      <td>18.53</td>\n",
              "      <td>1.120</td>\n",
              "    </tr>\n",
              "    <tr>\n",
              "      <td>2</td>\n",
              "      <td>f1_fuel_1994_12_2_0_1</td>\n",
              "      <td>2</td>\n",
              "      <td>1994</td>\n",
              "      <td>gorgas</td>\n",
              "      <td>coal</td>\n",
              "      <td>ton</td>\n",
              "      <td>2978683.0</td>\n",
              "      <td>24.130</td>\n",
              "      <td>39.72</td>\n",
              "      <td>38.12</td>\n",
              "      <td>1.650</td>\n",
              "    </tr>\n",
              "    <tr>\n",
              "      <td>3</td>\n",
              "      <td>f1_fuel_1994_12_2_0_7</td>\n",
              "      <td>2</td>\n",
              "      <td>1994</td>\n",
              "      <td>barry</td>\n",
              "      <td>coal</td>\n",
              "      <td>ton</td>\n",
              "      <td>3739484.0</td>\n",
              "      <td>23.950</td>\n",
              "      <td>47.21</td>\n",
              "      <td>45.99</td>\n",
              "      <td>1.970</td>\n",
              "    </tr>\n",
              "    <tr>\n",
              "      <td>4</td>\n",
              "      <td>f1_fuel_1994_12_2_0_10</td>\n",
              "      <td>2</td>\n",
              "      <td>1994</td>\n",
              "      <td>chickasaw</td>\n",
              "      <td>gas</td>\n",
              "      <td>mcf</td>\n",
              "      <td>40533.0</td>\n",
              "      <td>1.000</td>\n",
              "      <td>2.77</td>\n",
              "      <td>2.77</td>\n",
              "      <td>2.570</td>\n",
              "    </tr>\n",
              "  </tbody>\n",
              "</table>\n",
              "</div>"
            ],
            "text/plain": [
              "                record_id  utility_id_ferc1  report_year  \\\n",
              "0   f1_fuel_1994_12_1_0_7                 1         1994   \n",
              "1  f1_fuel_1994_12_1_0_10                 1         1994   \n",
              "2   f1_fuel_1994_12_2_0_1                 2         1994   \n",
              "3   f1_fuel_1994_12_2_0_7                 2         1994   \n",
              "4  f1_fuel_1994_12_2_0_10                 2         1994   \n",
              "\n",
              "       plant_name_ferc1 fuel_type_code_pudl fuel_unit  fuel_qty_burned  \\\n",
              "0              rockport                coal       ton        5377489.0   \n",
              "1  rockport total plant                coal       ton       10486945.0   \n",
              "2                gorgas                coal       ton        2978683.0   \n",
              "3                 barry                coal       ton        3739484.0   \n",
              "4             chickasaw                 gas       mcf          40533.0   \n",
              "\n",
              "   fuel_mmbtu_per_unit  fuel_cost_per_unit_burned  \\\n",
              "0               16.590                      18.59   \n",
              "1               16.592                      18.58   \n",
              "2               24.130                      39.72   \n",
              "3               23.950                      47.21   \n",
              "4                1.000                       2.77   \n",
              "\n",
              "   fuel_cost_per_unit_delivered  fuel_cost_per_mmbtu  \n",
              "0                         18.53                1.121  \n",
              "1                         18.53                1.120  \n",
              "2                         38.12                1.650  \n",
              "3                         45.99                1.970  \n",
              "4                          2.77                2.570  "
            ]
          },
          "metadata": {
            "tags": []
          },
          "execution_count": 2
        }
      ]
    },
    {
      "cell_type": "code",
      "metadata": {
        "id": "QhWahObEnOMk",
        "colab_type": "code",
        "colab": {},
        "outputId": "4ff79119-cab2-4b5a-f15a-4afb327fdc92"
      },
      "source": [
        "fuel_data.describe()"
      ],
      "execution_count": null,
      "outputs": [
        {
          "output_type": "execute_result",
          "data": {
            "text/html": [
              "<div>\n",
              "<style scoped>\n",
              "    .dataframe tbody tr th:only-of-type {\n",
              "        vertical-align: middle;\n",
              "    }\n",
              "\n",
              "    .dataframe tbody tr th {\n",
              "        vertical-align: top;\n",
              "    }\n",
              "\n",
              "    .dataframe thead th {\n",
              "        text-align: right;\n",
              "    }\n",
              "</style>\n",
              "<table border=\"1\" class=\"dataframe\">\n",
              "  <thead>\n",
              "    <tr style=\"text-align: right;\">\n",
              "      <th></th>\n",
              "      <th>utility_id_ferc1</th>\n",
              "      <th>report_year</th>\n",
              "      <th>fuel_qty_burned</th>\n",
              "      <th>fuel_mmbtu_per_unit</th>\n",
              "      <th>fuel_cost_per_unit_burned</th>\n",
              "      <th>fuel_cost_per_unit_delivered</th>\n",
              "      <th>fuel_cost_per_mmbtu</th>\n",
              "    </tr>\n",
              "  </thead>\n",
              "  <tbody>\n",
              "    <tr>\n",
              "      <td>count</td>\n",
              "      <td>29523.000000</td>\n",
              "      <td>29523.000000</td>\n",
              "      <td>2.952300e+04</td>\n",
              "      <td>29523.000000</td>\n",
              "      <td>29523.000000</td>\n",
              "      <td>2.952300e+04</td>\n",
              "      <td>29523.000000</td>\n",
              "    </tr>\n",
              "    <tr>\n",
              "      <td>mean</td>\n",
              "      <td>118.601836</td>\n",
              "      <td>2005.806050</td>\n",
              "      <td>2.622119e+06</td>\n",
              "      <td>8.492111</td>\n",
              "      <td>208.649031</td>\n",
              "      <td>9.175704e+02</td>\n",
              "      <td>19.304354</td>\n",
              "    </tr>\n",
              "    <tr>\n",
              "      <td>std</td>\n",
              "      <td>74.178353</td>\n",
              "      <td>7.025483</td>\n",
              "      <td>9.118004e+06</td>\n",
              "      <td>10.600220</td>\n",
              "      <td>2854.490090</td>\n",
              "      <td>6.877593e+04</td>\n",
              "      <td>2091.540939</td>\n",
              "    </tr>\n",
              "    <tr>\n",
              "      <td>min</td>\n",
              "      <td>1.000000</td>\n",
              "      <td>1994.000000</td>\n",
              "      <td>1.000000e+00</td>\n",
              "      <td>0.000001</td>\n",
              "      <td>-276.080000</td>\n",
              "      <td>-8.749370e+02</td>\n",
              "      <td>-41.501000</td>\n",
              "    </tr>\n",
              "    <tr>\n",
              "      <td>25%</td>\n",
              "      <td>55.000000</td>\n",
              "      <td>2000.000000</td>\n",
              "      <td>1.381700e+04</td>\n",
              "      <td>1.024000</td>\n",
              "      <td>5.207000</td>\n",
              "      <td>3.778500e+00</td>\n",
              "      <td>1.940000</td>\n",
              "    </tr>\n",
              "    <tr>\n",
              "      <td>50%</td>\n",
              "      <td>122.000000</td>\n",
              "      <td>2006.000000</td>\n",
              "      <td>2.533220e+05</td>\n",
              "      <td>5.762694</td>\n",
              "      <td>26.000000</td>\n",
              "      <td>1.737100e+01</td>\n",
              "      <td>4.127000</td>\n",
              "    </tr>\n",
              "    <tr>\n",
              "      <td>75%</td>\n",
              "      <td>176.000000</td>\n",
              "      <td>2012.000000</td>\n",
              "      <td>1.424034e+06</td>\n",
              "      <td>17.006000</td>\n",
              "      <td>47.113000</td>\n",
              "      <td>4.213700e+01</td>\n",
              "      <td>7.745000</td>\n",
              "    </tr>\n",
              "    <tr>\n",
              "      <td>max</td>\n",
              "      <td>514.000000</td>\n",
              "      <td>2018.000000</td>\n",
              "      <td>5.558942e+08</td>\n",
              "      <td>341.260000</td>\n",
              "      <td>139358.000000</td>\n",
              "      <td>7.964521e+06</td>\n",
              "      <td>359278.000000</td>\n",
              "    </tr>\n",
              "  </tbody>\n",
              "</table>\n",
              "</div>"
            ],
            "text/plain": [
              "       utility_id_ferc1   report_year  fuel_qty_burned  fuel_mmbtu_per_unit  \\\n",
              "count      29523.000000  29523.000000     2.952300e+04         29523.000000   \n",
              "mean         118.601836   2005.806050     2.622119e+06             8.492111   \n",
              "std           74.178353      7.025483     9.118004e+06            10.600220   \n",
              "min            1.000000   1994.000000     1.000000e+00             0.000001   \n",
              "25%           55.000000   2000.000000     1.381700e+04             1.024000   \n",
              "50%          122.000000   2006.000000     2.533220e+05             5.762694   \n",
              "75%          176.000000   2012.000000     1.424034e+06            17.006000   \n",
              "max          514.000000   2018.000000     5.558942e+08           341.260000   \n",
              "\n",
              "       fuel_cost_per_unit_burned  fuel_cost_per_unit_delivered  \\\n",
              "count               29523.000000                  2.952300e+04   \n",
              "mean                  208.649031                  9.175704e+02   \n",
              "std                  2854.490090                  6.877593e+04   \n",
              "min                  -276.080000                 -8.749370e+02   \n",
              "25%                     5.207000                  3.778500e+00   \n",
              "50%                    26.000000                  1.737100e+01   \n",
              "75%                    47.113000                  4.213700e+01   \n",
              "max                139358.000000                  7.964521e+06   \n",
              "\n",
              "       fuel_cost_per_mmbtu  \n",
              "count         29523.000000  \n",
              "mean             19.304354  \n",
              "std            2091.540939  \n",
              "min             -41.501000  \n",
              "25%               1.940000  \n",
              "50%               4.127000  \n",
              "75%               7.745000  \n",
              "max          359278.000000  "
            ]
          },
          "metadata": {
            "tags": []
          },
          "execution_count": 3
        }
      ]
    },
    {
      "cell_type": "code",
      "metadata": {
        "id": "qMskvWMPnOMz",
        "colab_type": "code",
        "colab": {},
        "outputId": "9daa8638-91cd-4654-e3e8-22dba32e8283"
      },
      "source": [
        "fuel_data.info()"
      ],
      "execution_count": null,
      "outputs": [
        {
          "output_type": "stream",
          "text": [
            "<class 'pandas.core.frame.DataFrame'>\n",
            "Int64Index: 29523 entries, 0 to 29522\n",
            "Data columns (total 11 columns):\n",
            "record_id                       29523 non-null object\n",
            "utility_id_ferc1                29523 non-null int64\n",
            "report_year                     29523 non-null int64\n",
            "plant_name_ferc1                29523 non-null object\n",
            "fuel_type_code_pudl             29523 non-null object\n",
            "fuel_unit                       29343 non-null object\n",
            "fuel_qty_burned                 29523 non-null float64\n",
            "fuel_mmbtu_per_unit             29523 non-null float64\n",
            "fuel_cost_per_unit_burned       29523 non-null float64\n",
            "fuel_cost_per_unit_delivered    29523 non-null float64\n",
            "fuel_cost_per_mmbtu             29523 non-null float64\n",
            "dtypes: float64(5), int64(2), object(4)\n",
            "memory usage: 2.7+ MB\n"
          ],
          "name": "stdout"
        }
      ]
    },
    {
      "cell_type": "code",
      "metadata": {
        "id": "pNpzSUCOnOND",
        "colab_type": "code",
        "colab": {},
        "outputId": "10f771fc-ad90-4768-9265-313677d3c1b4"
      },
      "source": [
        "fuel_data.isnull().sum()"
      ],
      "execution_count": null,
      "outputs": [
        {
          "output_type": "execute_result",
          "data": {
            "text/plain": [
              "record_id                         0\n",
              "utility_id_ferc1                  0\n",
              "report_year                       0\n",
              "plant_name_ferc1                  0\n",
              "fuel_type_code_pudl               0\n",
              "fuel_unit                       180\n",
              "fuel_qty_burned                   0\n",
              "fuel_mmbtu_per_unit               0\n",
              "fuel_cost_per_unit_burned         0\n",
              "fuel_cost_per_unit_delivered      0\n",
              "fuel_cost_per_mmbtu               0\n",
              "dtype: int64"
            ]
          },
          "metadata": {
            "tags": []
          },
          "execution_count": 5
        }
      ]
    },
    {
      "cell_type": "code",
      "metadata": {
        "id": "75iqYKNknONQ",
        "colab_type": "code",
        "colab": {}
      },
      "source": [
        "# only fuel_unit has null entries"
      ],
      "execution_count": null,
      "outputs": []
    },
    {
      "cell_type": "code",
      "metadata": {
        "id": "rLvWmWDynONc",
        "colab_type": "code",
        "colab": {},
        "outputId": "13c1fc9c-7db4-4642-aad5-b0f6f2b04a08"
      },
      "source": [
        "fuel_data['fuel_unit']"
      ],
      "execution_count": null,
      "outputs": [
        {
          "output_type": "execute_result",
          "data": {
            "text/plain": [
              "0        ton\n",
              "1        ton\n",
              "2        ton\n",
              "3        ton\n",
              "4        mcf\n",
              "        ... \n",
              "29518    mcf\n",
              "29519    mcf\n",
              "29520    mcf\n",
              "29521    ton\n",
              "29522    mcf\n",
              "Name: fuel_unit, Length: 29523, dtype: object"
            ]
          },
          "metadata": {
            "tags": []
          },
          "execution_count": 7
        }
      ]
    },
    {
      "cell_type": "code",
      "metadata": {
        "id": "1iAZb_iSnONo",
        "colab_type": "code",
        "colab": {},
        "outputId": "9272d191-3e83-483c-d030-d2a5e64a2ebe"
      },
      "source": [
        "fuel_data['fuel_unit'].dtype"
      ],
      "execution_count": null,
      "outputs": [
        {
          "output_type": "execute_result",
          "data": {
            "text/plain": [
              "dtype('O')"
            ]
          },
          "metadata": {
            "tags": []
          },
          "execution_count": 8
        }
      ]
    },
    {
      "cell_type": "code",
      "metadata": {
        "id": "DJrkviiHnONz",
        "colab_type": "code",
        "colab": {}
      },
      "source": [
        "# fuel_unit has dtype - object"
      ],
      "execution_count": null,
      "outputs": []
    },
    {
      "cell_type": "code",
      "metadata": {
        "id": "8rTxoDZ1nON8",
        "colab_type": "code",
        "colab": {},
        "outputId": "1a30fdeb-512a-4707-cf78-80cc198279d1"
      },
      "source": [
        "fuel_data['fuel_unit'].value_counts()"
      ],
      "execution_count": null,
      "outputs": [
        {
          "output_type": "execute_result",
          "data": {
            "text/plain": [
              "mcf       11354\n",
              "ton        8958\n",
              "bbl        7998\n",
              "gramsU      464\n",
              "mmbtu       180\n",
              "kgU         110\n",
              "mwhth       100\n",
              "mwdth        95\n",
              "gal          84\n",
              "Name: fuel_unit, dtype: int64"
            ]
          },
          "metadata": {
            "tags": []
          },
          "execution_count": 10
        }
      ]
    },
    {
      "cell_type": "code",
      "metadata": {
        "id": "NwhJhVr7nOOG",
        "colab_type": "code",
        "colab": {},
        "outputId": "e5569c3e-753a-45c1-baa5-119450e78426"
      },
      "source": [
        "sns.countplot(x='fuel_unit',data=fuel_data)"
      ],
      "execution_count": null,
      "outputs": [
        {
          "output_type": "execute_result",
          "data": {
            "text/plain": [
              "<matplotlib.axes._subplots.AxesSubplot at 0x24280048988>"
            ]
          },
          "metadata": {
            "tags": []
          },
          "execution_count": 11
        },
        {
          "output_type": "display_data",
          "data": {
            "image/png": "[encoded data removed]",
            "text/plain": [
              "<Figure size 432x288 with 1 Axes>"
            ]
          },
          "metadata": {
            "tags": [],
            "needs_background": "light"
          }
        }
      ]
    },
    {
      "cell_type": "code",
      "metadata": {
        "id": "b0DD469CnOOa",
        "colab_type": "code",
        "colab": {}
      },
      "source": [
        "# it's best to replace null values with the mode, which is mcf."
      ],
      "execution_count": null,
      "outputs": []
    },
    {
      "cell_type": "code",
      "metadata": {
        "id": "Ox9m9s8RnOOr",
        "colab_type": "code",
        "colab": {},
        "outputId": "84bac140-27b2-417f-dfc3-6da168aa395e"
      },
      "source": [
        "fuel_data.groupby('fuel_type_code_pudl')['fuel_cost_per_unit_burned'].count()"
      ],
      "execution_count": null,
      "outputs": [
        {
          "output_type": "execute_result",
          "data": {
            "text/plain": [
              "fuel_type_code_pudl\n",
              "coal        8547\n",
              "gas        11486\n",
              "nuclear      818\n",
              "oil         8064\n",
              "other        167\n",
              "waste        441\n",
              "Name: fuel_cost_per_unit_burned, dtype: int64"
            ]
          },
          "metadata": {
            "tags": []
          },
          "execution_count": 13
        }
      ]
    },
    {
      "cell_type": "code",
      "metadata": {
        "id": "jCcUnWZhnOO1",
        "colab_type": "code",
        "colab": {},
        "outputId": "a501c283-c4a7-4fb3-d79d-08887cef2b3f"
      },
      "source": [
        "fuel_data['fuel_type_code_pudl'].value_counts() # lists types of fuel used and number of times used"
      ],
      "execution_count": null,
      "outputs": [
        {
          "output_type": "execute_result",
          "data": {
            "text/plain": [
              "gas        11486\n",
              "coal        8547\n",
              "oil         8064\n",
              "nuclear      818\n",
              "waste        441\n",
              "other        167\n",
              "Name: fuel_type_code_pudl, dtype: int64"
            ]
          },
          "metadata": {
            "tags": []
          },
          "execution_count": 14
        }
      ]
    },
    {
      "cell_type": "code",
      "metadata": {
        "id": "qhHF1pCznOO-",
        "colab_type": "code",
        "colab": {}
      },
      "source": [
        ""
      ],
      "execution_count": null,
      "outputs": []
    },
    {
      "cell_type": "code",
      "metadata": {
        "id": "SnXN1H3MnOPI",
        "colab_type": "code",
        "colab": {},
        "outputId": "08845159-d066-4c09-e097-f5b1f2912c40"
      },
      "source": [
        "# returns the burned or expended quantity of each fuel type\n",
        "fuel_data.groupby(['fuel_type_code_pudl'])['fuel_cost_per_unit_burned'].sum().sort_values(ascending=False) "
      ],
      "execution_count": null,
      "outputs": [
        {
          "output_type": "execute_result",
          "data": {
            "text/plain": [
              "fuel_type_code_pudl\n",
              "nuclear    4053318.428\n",
              "oil        1361824.819\n",
              "coal        576254.381\n",
              "gas         156891.829\n",
              "waste         8607.492\n",
              "other         3048.394\n",
              "Name: fuel_cost_per_unit_burned, dtype: float64"
            ]
          },
          "metadata": {
            "tags": []
          },
          "execution_count": 15
        }
      ]
    },
    {
      "cell_type": "code",
      "metadata": {
        "id": "y50gF6e5nOPS",
        "colab_type": "code",
        "colab": {}
      },
      "source": [
        ""
      ],
      "execution_count": null,
      "outputs": []
    },
    {
      "cell_type": "code",
      "metadata": {
        "id": "Bz_T6OY1nOPh",
        "colab_type": "code",
        "colab": {},
        "outputId": "2cbfd54a-b95f-40cd-de68-e9a2f3052904"
      },
      "source": [
        "# code below returns the fuel_cost_per_unit _delivered for each year\n",
        "fuel_data.groupby('report_year')['fuel_cost_per_unit_delivered'].sum()"
      ],
      "execution_count": null,
      "outputs": [
        {
          "output_type": "execute_result",
          "data": {
            "text/plain": [
              "report_year\n",
              "1994    7.859053e+04\n",
              "1995    3.931506e+04\n",
              "1996    1.000602e+07\n",
              "1997    1.218738e+07\n",
              "1998    3.178799e+05\n",
              "1999    2.682921e+04\n",
              "2000    1.352903e+06\n",
              "2001    8.142834e+04\n",
              "2002    5.735121e+04\n",
              "2003    6.740849e+04\n",
              "2004    1.663129e+05\n",
              "2005    5.258506e+04\n",
              "2006    4.805125e+04\n",
              "2007    5.476283e+04\n",
              "2008    7.194631e+04\n",
              "2009    7.975923e+05\n",
              "2010    1.158381e+05\n",
              "2011    7.412059e+04\n",
              "2012    7.581617e+04\n",
              "2013    2.065968e+05\n",
              "2014    2.256952e+05\n",
              "2015    3.569033e+05\n",
              "2016    1.074344e+05\n",
              "2017    4.587348e+04\n",
              "2018    4.748057e+05\n",
              "Name: fuel_cost_per_unit_delivered, dtype: float64"
            ]
          },
          "metadata": {
            "tags": []
          },
          "execution_count": 16
        }
      ]
    },
    {
      "cell_type": "code",
      "metadata": {
        "id": "-__WYIf5nOPr",
        "colab_type": "code",
        "colab": {},
        "outputId": "6e15a96f-246c-4a83-bb02-729d9a2c97d2"
      },
      "source": [
        "# difference between 1994 and 1998\n",
        "_98 = fuel_data[fuel_data['report_year']==1998]['fuel_cost_per_unit_delivered'].sum()\n",
        "_94 = fuel_data[fuel_data['report_year']==1994]['fuel_cost_per_unit_delivered'].sum()\n",
        "\n",
        "percent_change = ((_94 - _98)/_98)\n",
        "percent_change"
      ],
      "execution_count": null,
      "outputs": [
        {
          "output_type": "execute_result",
          "data": {
            "text/plain": [
              "-0.7527666160428372"
            ]
          },
          "metadata": {
            "tags": []
          },
          "execution_count": 17
        }
      ]
    },
    {
      "cell_type": "code",
      "metadata": {
        "id": "ilWPsV-jnOPz",
        "colab_type": "code",
        "colab": {}
      },
      "source": [
        ""
      ],
      "execution_count": null,
      "outputs": []
    },
    {
      "cell_type": "code",
      "metadata": {
        "id": "CaQOlhVknOP-",
        "colab_type": "code",
        "colab": {}
      },
      "source": [
        "# Kurtoisis and Skew of data - fuel_qty_burned"
      ],
      "execution_count": null,
      "outputs": []
    },
    {
      "cell_type": "code",
      "metadata": {
        "id": "4-I8AhAGnOQG",
        "colab_type": "code",
        "colab": {},
        "outputId": "b7aa43e5-0c70-497a-e188-75613e380839"
      },
      "source": [
        "from scipy.stats import kurtosis \n",
        "kurt = kurtosis(fuel_data['fuel_qty_burned'])\n",
        "print(\"Kurtosis of fuel_quantity_burned column: {:.3f}\".format(kurt))"
      ],
      "execution_count": null,
      "outputs": [
        {
          "output_type": "stream",
          "text": [
            "Kurtosis of fuel_quantity_burned column: 651.259\n"
          ],
          "name": "stdout"
        }
      ]
    },
    {
      "cell_type": "code",
      "metadata": {
        "id": "GnzVodbDnOQQ",
        "colab_type": "code",
        "colab": {},
        "outputId": "1cc2fb84-f574-4f92-ab2d-cec0d0edd4c9"
      },
      "source": [
        "# skew::\n",
        "_skew = fuel_data['fuel_qty_burned'].skew()\n",
        "print(\"Skew value of fuel_qty_burned column: {:.3f}\".format(_skew))"
      ],
      "execution_count": null,
      "outputs": [
        {
          "output_type": "stream",
          "text": [
            "Skew value of fuel_qty_burned column: 15.851\n"
          ],
          "name": "stdout"
        }
      ]
    },
    {
      "cell_type": "code",
      "metadata": {
        "id": "_WT3RfD9nOQy",
        "colab_type": "code",
        "colab": {},
        "outputId": "692074e1-7201-452e-993b-c53fe3ea5020"
      },
      "source": [
        "# correlation\n",
        "cor = fuel_data.corr()\n",
        "cor"
      ],
      "execution_count": null,
      "outputs": [
        {
          "output_type": "execute_result",
          "data": {
            "text/html": [
              "<div>\n",
              "<style scoped>\n",
              "    .dataframe tbody tr th:only-of-type {\n",
              "        vertical-align: middle;\n",
              "    }\n",
              "\n",
              "    .dataframe tbody tr th {\n",
              "        vertical-align: top;\n",
              "    }\n",
              "\n",
              "    .dataframe thead th {\n",
              "        text-align: right;\n",
              "    }\n",
              "</style>\n",
              "<table border=\"1\" class=\"dataframe\">\n",
              "  <thead>\n",
              "    <tr style=\"text-align: right;\">\n",
              "      <th></th>\n",
              "      <th>utility_id_ferc1</th>\n",
              "      <th>report_year</th>\n",
              "      <th>fuel_qty_burned</th>\n",
              "      <th>fuel_mmbtu_per_unit</th>\n",
              "      <th>fuel_cost_per_unit_burned</th>\n",
              "      <th>fuel_cost_per_unit_delivered</th>\n",
              "      <th>fuel_cost_per_mmbtu</th>\n",
              "    </tr>\n",
              "  </thead>\n",
              "  <tbody>\n",
              "    <tr>\n",
              "      <td>utility_id_ferc1</td>\n",
              "      <td>1.000000</td>\n",
              "      <td>0.093323</td>\n",
              "      <td>-0.057447</td>\n",
              "      <td>-0.066946</td>\n",
              "      <td>-0.037863</td>\n",
              "      <td>-0.016414</td>\n",
              "      <td>0.006122</td>\n",
              "    </tr>\n",
              "    <tr>\n",
              "      <td>report_year</td>\n",
              "      <td>0.093323</td>\n",
              "      <td>1.000000</td>\n",
              "      <td>0.012952</td>\n",
              "      <td>-0.110853</td>\n",
              "      <td>0.013599</td>\n",
              "      <td>-0.014043</td>\n",
              "      <td>0.010261</td>\n",
              "    </tr>\n",
              "    <tr>\n",
              "      <td>fuel_qty_burned</td>\n",
              "      <td>-0.057447</td>\n",
              "      <td>0.012952</td>\n",
              "      <td>1.000000</td>\n",
              "      <td>-0.080946</td>\n",
              "      <td>-0.018535</td>\n",
              "      <td>-0.003551</td>\n",
              "      <td>-0.001896</td>\n",
              "    </tr>\n",
              "    <tr>\n",
              "      <td>fuel_mmbtu_per_unit</td>\n",
              "      <td>-0.066946</td>\n",
              "      <td>-0.110853</td>\n",
              "      <td>-0.080946</td>\n",
              "      <td>1.000000</td>\n",
              "      <td>-0.010034</td>\n",
              "      <td>-0.009039</td>\n",
              "      <td>-0.005884</td>\n",
              "    </tr>\n",
              "    <tr>\n",
              "      <td>fuel_cost_per_unit_burned</td>\n",
              "      <td>-0.037863</td>\n",
              "      <td>0.013599</td>\n",
              "      <td>-0.018535</td>\n",
              "      <td>-0.010034</td>\n",
              "      <td>1.000000</td>\n",
              "      <td>0.011007</td>\n",
              "      <td>-0.000437</td>\n",
              "    </tr>\n",
              "    <tr>\n",
              "      <td>fuel_cost_per_unit_delivered</td>\n",
              "      <td>-0.016414</td>\n",
              "      <td>-0.014043</td>\n",
              "      <td>-0.003551</td>\n",
              "      <td>-0.009039</td>\n",
              "      <td>0.011007</td>\n",
              "      <td>1.000000</td>\n",
              "      <td>-0.000109</td>\n",
              "    </tr>\n",
              "    <tr>\n",
              "      <td>fuel_cost_per_mmbtu</td>\n",
              "      <td>0.006122</td>\n",
              "      <td>0.010261</td>\n",
              "      <td>-0.001896</td>\n",
              "      <td>-0.005884</td>\n",
              "      <td>-0.000437</td>\n",
              "      <td>-0.000109</td>\n",
              "      <td>1.000000</td>\n",
              "    </tr>\n",
              "  </tbody>\n",
              "</table>\n",
              "</div>"
            ],
            "text/plain": [
              "                              utility_id_ferc1  report_year  fuel_qty_burned  \\\n",
              "utility_id_ferc1                      1.000000     0.093323        -0.057447   \n",
              "report_year                           0.093323     1.000000         0.012952   \n",
              "fuel_qty_burned                      -0.057447     0.012952         1.000000   \n",
              "fuel_mmbtu_per_unit                  -0.066946    -0.110853        -0.080946   \n",
              "fuel_cost_per_unit_burned            -0.037863     0.013599        -0.018535   \n",
              "fuel_cost_per_unit_delivered         -0.016414    -0.014043        -0.003551   \n",
              "fuel_cost_per_mmbtu                   0.006122     0.010261        -0.001896   \n",
              "\n",
              "                              fuel_mmbtu_per_unit  fuel_cost_per_unit_burned  \\\n",
              "utility_id_ferc1                        -0.066946                  -0.037863   \n",
              "report_year                             -0.110853                   0.013599   \n",
              "fuel_qty_burned                         -0.080946                  -0.018535   \n",
              "fuel_mmbtu_per_unit                      1.000000                  -0.010034   \n",
              "fuel_cost_per_unit_burned               -0.010034                   1.000000   \n",
              "fuel_cost_per_unit_delivered            -0.009039                   0.011007   \n",
              "fuel_cost_per_mmbtu                     -0.005884                  -0.000437   \n",
              "\n",
              "                              fuel_cost_per_unit_delivered  \\\n",
              "utility_id_ferc1                                 -0.016414   \n",
              "report_year                                      -0.014043   \n",
              "fuel_qty_burned                                  -0.003551   \n",
              "fuel_mmbtu_per_unit                              -0.009039   \n",
              "fuel_cost_per_unit_burned                         0.011007   \n",
              "fuel_cost_per_unit_delivered                      1.000000   \n",
              "fuel_cost_per_mmbtu                              -0.000109   \n",
              "\n",
              "                              fuel_cost_per_mmbtu  \n",
              "utility_id_ferc1                         0.006122  \n",
              "report_year                              0.010261  \n",
              "fuel_qty_burned                         -0.001896  \n",
              "fuel_mmbtu_per_unit                     -0.005884  \n",
              "fuel_cost_per_unit_burned               -0.000437  \n",
              "fuel_cost_per_unit_delivered            -0.000109  \n",
              "fuel_cost_per_mmbtu                      1.000000  "
            ]
          },
          "metadata": {
            "tags": []
          },
          "execution_count": 27
        }
      ]
    },
    {
      "cell_type": "code",
      "metadata": {
        "id": "0cM394p2nOQ9",
        "colab_type": "code",
        "colab": {},
        "outputId": "72e7ce3b-0863-4bc7-df3d-6e161bbe9771"
      },
      "source": [
        "sns.heatmap(cor,annot=True)"
      ],
      "execution_count": null,
      "outputs": [
        {
          "output_type": "execute_result",
          "data": {
            "text/plain": [
              "<matplotlib.axes._subplots.AxesSubplot at 0x24280a4c548>"
            ]
          },
          "metadata": {
            "tags": []
          },
          "execution_count": 30
        },
        {
          "output_type": "display_data",
          "data": {
            "image/png": "[encoded data removed]",
            "text/plain": [
              "<Figure size 432x288 with 2 Axes>"
            ]
          },
          "metadata": {
            "tags": [],
            "needs_background": "light"
          }
        }
      ]
    },
    {
      "cell_type": "code",
      "metadata": {
        "id": "46ypB8mjnORF",
        "colab_type": "code",
        "colab": {},
        "outputId": "101fedee-8c75-4439-d4d0-de18c8735fa5"
      },
      "source": [
        "# the heatmap of cor shows visually the correlation of each feature with the other\n",
        "# this can also be visualised using cluster map\n",
        "\n",
        "sns.clustermap(cor, annot=True, cmap='viridis')"
      ],
      "execution_count": null,
      "outputs": [
        {
          "output_type": "execute_result",
          "data": {
            "text/plain": [
              "<seaborn.matrix.ClusterGrid at 0x24280eb96c8>"
            ]
          },
          "metadata": {
            "tags": []
          },
          "execution_count": 33
        },
        {
          "output_type": "display_data",
          "data": {
            "image/png": "[encoded data removed]",
            "text/plain": [
              "<Figure size 720x720 with 4 Axes>"
            ]
          },
          "metadata": {
            "tags": [],
            "needs_background": "light"
          }
        }
      ]
    },
    {
      "cell_type": "code",
      "metadata": {
        "id": "vwjbdcQHnORS",
        "colab_type": "code",
        "colab": {},
        "outputId": "513b23eb-c0ad-418e-b206-4da8dcf4cc60"
      },
      "source": [
        "fuel_data.head()"
      ],
      "execution_count": null,
      "outputs": [
        {
          "output_type": "execute_result",
          "data": {
            "text/html": [
              "<div>\n",
              "<style scoped>\n",
              "    .dataframe tbody tr th:only-of-type {\n",
              "        vertical-align: middle;\n",
              "    }\n",
              "\n",
              "    .dataframe tbody tr th {\n",
              "        vertical-align: top;\n",
              "    }\n",
              "\n",
              "    .dataframe thead th {\n",
              "        text-align: right;\n",
              "    }\n",
              "</style>\n",
              "<table border=\"1\" class=\"dataframe\">\n",
              "  <thead>\n",
              "    <tr style=\"text-align: right;\">\n",
              "      <th></th>\n",
              "      <th>record_id</th>\n",
              "      <th>utility_id_ferc1</th>\n",
              "      <th>report_year</th>\n",
              "      <th>plant_name_ferc1</th>\n",
              "      <th>fuel_type_code_pudl</th>\n",
              "      <th>fuel_unit</th>\n",
              "      <th>fuel_qty_burned</th>\n",
              "      <th>fuel_mmbtu_per_unit</th>\n",
              "      <th>fuel_cost_per_unit_burned</th>\n",
              "      <th>fuel_cost_per_unit_delivered</th>\n",
              "      <th>fuel_cost_per_mmbtu</th>\n",
              "    </tr>\n",
              "  </thead>\n",
              "  <tbody>\n",
              "    <tr>\n",
              "      <td>0</td>\n",
              "      <td>f1_fuel_1994_12_1_0_7</td>\n",
              "      <td>1</td>\n",
              "      <td>1994</td>\n",
              "      <td>rockport</td>\n",
              "      <td>coal</td>\n",
              "      <td>ton</td>\n",
              "      <td>5377489.0</td>\n",
              "      <td>16.590</td>\n",
              "      <td>18.59</td>\n",
              "      <td>18.53</td>\n",
              "      <td>1.121</td>\n",
              "    </tr>\n",
              "    <tr>\n",
              "      <td>1</td>\n",
              "      <td>f1_fuel_1994_12_1_0_10</td>\n",
              "      <td>1</td>\n",
              "      <td>1994</td>\n",
              "      <td>rockport total plant</td>\n",
              "      <td>coal</td>\n",
              "      <td>ton</td>\n",
              "      <td>10486945.0</td>\n",
              "      <td>16.592</td>\n",
              "      <td>18.58</td>\n",
              "      <td>18.53</td>\n",
              "      <td>1.120</td>\n",
              "    </tr>\n",
              "    <tr>\n",
              "      <td>2</td>\n",
              "      <td>f1_fuel_1994_12_2_0_1</td>\n",
              "      <td>2</td>\n",
              "      <td>1994</td>\n",
              "      <td>gorgas</td>\n",
              "      <td>coal</td>\n",
              "      <td>ton</td>\n",
              "      <td>2978683.0</td>\n",
              "      <td>24.130</td>\n",
              "      <td>39.72</td>\n",
              "      <td>38.12</td>\n",
              "      <td>1.650</td>\n",
              "    </tr>\n",
              "    <tr>\n",
              "      <td>3</td>\n",
              "      <td>f1_fuel_1994_12_2_0_7</td>\n",
              "      <td>2</td>\n",
              "      <td>1994</td>\n",
              "      <td>barry</td>\n",
              "      <td>coal</td>\n",
              "      <td>ton</td>\n",
              "      <td>3739484.0</td>\n",
              "      <td>23.950</td>\n",
              "      <td>47.21</td>\n",
              "      <td>45.99</td>\n",
              "      <td>1.970</td>\n",
              "    </tr>\n",
              "    <tr>\n",
              "      <td>4</td>\n",
              "      <td>f1_fuel_1994_12_2_0_10</td>\n",
              "      <td>2</td>\n",
              "      <td>1994</td>\n",
              "      <td>chickasaw</td>\n",
              "      <td>gas</td>\n",
              "      <td>mcf</td>\n",
              "      <td>40533.0</td>\n",
              "      <td>1.000</td>\n",
              "      <td>2.77</td>\n",
              "      <td>2.77</td>\n",
              "      <td>2.570</td>\n",
              "    </tr>\n",
              "  </tbody>\n",
              "</table>\n",
              "</div>"
            ],
            "text/plain": [
              "                record_id  utility_id_ferc1  report_year  \\\n",
              "0   f1_fuel_1994_12_1_0_7                 1         1994   \n",
              "1  f1_fuel_1994_12_1_0_10                 1         1994   \n",
              "2   f1_fuel_1994_12_2_0_1                 2         1994   \n",
              "3   f1_fuel_1994_12_2_0_7                 2         1994   \n",
              "4  f1_fuel_1994_12_2_0_10                 2         1994   \n",
              "\n",
              "       plant_name_ferc1 fuel_type_code_pudl fuel_unit  fuel_qty_burned  \\\n",
              "0              rockport                coal       ton        5377489.0   \n",
              "1  rockport total plant                coal       ton       10486945.0   \n",
              "2                gorgas                coal       ton        2978683.0   \n",
              "3                 barry                coal       ton        3739484.0   \n",
              "4             chickasaw                 gas       mcf          40533.0   \n",
              "\n",
              "   fuel_mmbtu_per_unit  fuel_cost_per_unit_burned  \\\n",
              "0               16.590                      18.59   \n",
              "1               16.592                      18.58   \n",
              "2               24.130                      39.72   \n",
              "3               23.950                      47.21   \n",
              "4                1.000                       2.77   \n",
              "\n",
              "   fuel_cost_per_unit_delivered  fuel_cost_per_mmbtu  \n",
              "0                         18.53                1.121  \n",
              "1                         18.53                1.120  \n",
              "2                         38.12                1.650  \n",
              "3                         45.99                1.970  \n",
              "4                          2.77                2.570  "
            ]
          },
          "metadata": {
            "tags": []
          },
          "execution_count": 34
        }
      ]
    },
    {
      "cell_type": "code",
      "metadata": {
        "id": "2VaSWwhsnORa",
        "colab_type": "code",
        "colab": {},
        "outputId": "031e535e-6347-4862-c4d0-e09d0101bb95"
      },
      "source": [
        "fuel_data.info()"
      ],
      "execution_count": null,
      "outputs": [
        {
          "output_type": "stream",
          "text": [
            "<class 'pandas.core.frame.DataFrame'>\n",
            "Int64Index: 29523 entries, 0 to 29522\n",
            "Data columns (total 11 columns):\n",
            "record_id                       29523 non-null object\n",
            "utility_id_ferc1                29523 non-null int64\n",
            "report_year                     29523 non-null int64\n",
            "plant_name_ferc1                29523 non-null object\n",
            "fuel_type_code_pudl             29523 non-null object\n",
            "fuel_unit                       29343 non-null object\n",
            "fuel_qty_burned                 29523 non-null float64\n",
            "fuel_mmbtu_per_unit             29523 non-null float64\n",
            "fuel_cost_per_unit_burned       29523 non-null float64\n",
            "fuel_cost_per_unit_delivered    29523 non-null float64\n",
            "fuel_cost_per_mmbtu             29523 non-null float64\n",
            "dtypes: float64(5), int64(2), object(4)\n",
            "memory usage: 4.0+ MB\n"
          ],
          "name": "stdout"
        }
      ]
    },
    {
      "cell_type": "code",
      "metadata": {
        "id": "1fYA2zRNnORj",
        "colab_type": "code",
        "colab": {}
      },
      "source": [
        "# The info above shows the data type of the various features: object (categorical), int64 (numerical, binomial) and float64 (numerical,continuous)"
      ],
      "execution_count": null,
      "outputs": []
    },
    {
      "cell_type": "code",
      "metadata": {
        "id": "kQDVJIc0nOR1",
        "colab_type": "code",
        "colab": {},
        "outputId": "ee38b0e2-b735-4b31-d645-a958ad24d678"
      },
      "source": [
        "fuel_data.describe()"
      ],
      "execution_count": null,
      "outputs": [
        {
          "output_type": "execute_result",
          "data": {
            "text/html": [
              "<div>\n",
              "<style scoped>\n",
              "    .dataframe tbody tr th:only-of-type {\n",
              "        vertical-align: middle;\n",
              "    }\n",
              "\n",
              "    .dataframe tbody tr th {\n",
              "        vertical-align: top;\n",
              "    }\n",
              "\n",
              "    .dataframe thead th {\n",
              "        text-align: right;\n",
              "    }\n",
              "</style>\n",
              "<table border=\"1\" class=\"dataframe\">\n",
              "  <thead>\n",
              "    <tr style=\"text-align: right;\">\n",
              "      <th></th>\n",
              "      <th>utility_id_ferc1</th>\n",
              "      <th>report_year</th>\n",
              "      <th>fuel_qty_burned</th>\n",
              "      <th>fuel_mmbtu_per_unit</th>\n",
              "      <th>fuel_cost_per_unit_burned</th>\n",
              "      <th>fuel_cost_per_unit_delivered</th>\n",
              "      <th>fuel_cost_per_mmbtu</th>\n",
              "    </tr>\n",
              "  </thead>\n",
              "  <tbody>\n",
              "    <tr>\n",
              "      <td>count</td>\n",
              "      <td>29523.000000</td>\n",
              "      <td>29523.000000</td>\n",
              "      <td>2.952300e+04</td>\n",
              "      <td>29523.000000</td>\n",
              "      <td>29523.000000</td>\n",
              "      <td>2.952300e+04</td>\n",
              "      <td>29523.000000</td>\n",
              "    </tr>\n",
              "    <tr>\n",
              "      <td>mean</td>\n",
              "      <td>118.601836</td>\n",
              "      <td>2005.806050</td>\n",
              "      <td>2.622119e+06</td>\n",
              "      <td>8.492111</td>\n",
              "      <td>208.649031</td>\n",
              "      <td>9.175704e+02</td>\n",
              "      <td>19.304354</td>\n",
              "    </tr>\n",
              "    <tr>\n",
              "      <td>std</td>\n",
              "      <td>74.178353</td>\n",
              "      <td>7.025483</td>\n",
              "      <td>9.118004e+06</td>\n",
              "      <td>10.600220</td>\n",
              "      <td>2854.490090</td>\n",
              "      <td>6.877593e+04</td>\n",
              "      <td>2091.540939</td>\n",
              "    </tr>\n",
              "    <tr>\n",
              "      <td>min</td>\n",
              "      <td>1.000000</td>\n",
              "      <td>1994.000000</td>\n",
              "      <td>1.000000e+00</td>\n",
              "      <td>0.000001</td>\n",
              "      <td>-276.080000</td>\n",
              "      <td>-8.749370e+02</td>\n",
              "      <td>-41.501000</td>\n",
              "    </tr>\n",
              "    <tr>\n",
              "      <td>25%</td>\n",
              "      <td>55.000000</td>\n",
              "      <td>2000.000000</td>\n",
              "      <td>1.381700e+04</td>\n",
              "      <td>1.024000</td>\n",
              "      <td>5.207000</td>\n",
              "      <td>3.778500e+00</td>\n",
              "      <td>1.940000</td>\n",
              "    </tr>\n",
              "    <tr>\n",
              "      <td>50%</td>\n",
              "      <td>122.000000</td>\n",
              "      <td>2006.000000</td>\n",
              "      <td>2.533220e+05</td>\n",
              "      <td>5.762694</td>\n",
              "      <td>26.000000</td>\n",
              "      <td>1.737100e+01</td>\n",
              "      <td>4.127000</td>\n",
              "    </tr>\n",
              "    <tr>\n",
              "      <td>75%</td>\n",
              "      <td>176.000000</td>\n",
              "      <td>2012.000000</td>\n",
              "      <td>1.424034e+06</td>\n",
              "      <td>17.006000</td>\n",
              "      <td>47.113000</td>\n",
              "      <td>4.213700e+01</td>\n",
              "      <td>7.745000</td>\n",
              "    </tr>\n",
              "    <tr>\n",
              "      <td>max</td>\n",
              "      <td>514.000000</td>\n",
              "      <td>2018.000000</td>\n",
              "      <td>5.558942e+08</td>\n",
              "      <td>341.260000</td>\n",
              "      <td>139358.000000</td>\n",
              "      <td>7.964521e+06</td>\n",
              "      <td>359278.000000</td>\n",
              "    </tr>\n",
              "  </tbody>\n",
              "</table>\n",
              "</div>"
            ],
            "text/plain": [
              "       utility_id_ferc1   report_year  fuel_qty_burned  fuel_mmbtu_per_unit  \\\n",
              "count      29523.000000  29523.000000     2.952300e+04         29523.000000   \n",
              "mean         118.601836   2005.806050     2.622119e+06             8.492111   \n",
              "std           74.178353      7.025483     9.118004e+06            10.600220   \n",
              "min            1.000000   1994.000000     1.000000e+00             0.000001   \n",
              "25%           55.000000   2000.000000     1.381700e+04             1.024000   \n",
              "50%          122.000000   2006.000000     2.533220e+05             5.762694   \n",
              "75%          176.000000   2012.000000     1.424034e+06            17.006000   \n",
              "max          514.000000   2018.000000     5.558942e+08           341.260000   \n",
              "\n",
              "       fuel_cost_per_unit_burned  fuel_cost_per_unit_delivered  \\\n",
              "count               29523.000000                  2.952300e+04   \n",
              "mean                  208.649031                  9.175704e+02   \n",
              "std                  2854.490090                  6.877593e+04   \n",
              "min                  -276.080000                 -8.749370e+02   \n",
              "25%                     5.207000                  3.778500e+00   \n",
              "50%                    26.000000                  1.737100e+01   \n",
              "75%                    47.113000                  4.213700e+01   \n",
              "max                139358.000000                  7.964521e+06   \n",
              "\n",
              "       fuel_cost_per_mmbtu  \n",
              "count         29523.000000  \n",
              "mean             19.304354  \n",
              "std            2091.540939  \n",
              "min             -41.501000  \n",
              "25%               1.940000  \n",
              "50%               4.127000  \n",
              "75%               7.745000  \n",
              "max          359278.000000  "
            ]
          },
          "metadata": {
            "tags": []
          },
          "execution_count": 38
        }
      ]
    },
    {
      "cell_type": "code",
      "metadata": {
        "id": "ECQJiVSknOSA",
        "colab_type": "code",
        "colab": {}
      },
      "source": [
        "# The describe method shows relevant statistical information concerning the dataset\n",
        "# various percentile values, mean, standard deviation, etc."
      ],
      "execution_count": null,
      "outputs": []
    },
    {
      "cell_type": "code",
      "metadata": {
        "id": "KYEdYT6FnOSH",
        "colab_type": "code",
        "colab": {},
        "outputId": "1562a2e0-6d8d-4474-8d4c-7ed77e039282"
      },
      "source": [
        "# this can be done individually: \n",
        "mean = fuel_data['fuel_cost_per_unit_burned'].mean()\n",
        "std =  fuel_data['fuel_cost_per_unit_burned'].std()\n",
        "\n",
        "print(\"For fuel_cost_per_unit_burned: \\nmean: {:.2f} \\nstandard deviation: {:.2f}\".format(mean,std))"
      ],
      "execution_count": null,
      "outputs": [
        {
          "output_type": "stream",
          "text": [
            "For fuel_cost_per_unit_burned: \n",
            "mean: 208.65 \n",
            "standard deviation: 2854.49\n"
          ],
          "name": "stdout"
        }
      ]
    },
    {
      "cell_type": "code",
      "metadata": {
        "id": "3dcO3WamnOSP",
        "colab_type": "code",
        "colab": {},
        "outputId": "c867cfe6-2b2d-4960-d5fc-8ed63380f58d"
      },
      "source": [
        "# passing include as a parameter in the .describe method helps to show statistics for non-numerical data type also, eg::\n",
        "include = fuel_data.describe(include=['object'])\n",
        "include"
      ],
      "execution_count": null,
      "outputs": [
        {
          "output_type": "execute_result",
          "data": {
            "text/html": [
              "<div>\n",
              "<style scoped>\n",
              "    .dataframe tbody tr th:only-of-type {\n",
              "        vertical-align: middle;\n",
              "    }\n",
              "\n",
              "    .dataframe tbody tr th {\n",
              "        vertical-align: top;\n",
              "    }\n",
              "\n",
              "    .dataframe thead th {\n",
              "        text-align: right;\n",
              "    }\n",
              "</style>\n",
              "<table border=\"1\" class=\"dataframe\">\n",
              "  <thead>\n",
              "    <tr style=\"text-align: right;\">\n",
              "      <th></th>\n",
              "      <th>record_id</th>\n",
              "      <th>plant_name_ferc1</th>\n",
              "      <th>fuel_type_code_pudl</th>\n",
              "      <th>fuel_unit</th>\n",
              "    </tr>\n",
              "  </thead>\n",
              "  <tbody>\n",
              "    <tr>\n",
              "      <td>count</td>\n",
              "      <td>29523</td>\n",
              "      <td>29523</td>\n",
              "      <td>29523</td>\n",
              "      <td>29343</td>\n",
              "    </tr>\n",
              "    <tr>\n",
              "      <td>unique</td>\n",
              "      <td>29523</td>\n",
              "      <td>2315</td>\n",
              "      <td>6</td>\n",
              "      <td>9</td>\n",
              "    </tr>\n",
              "    <tr>\n",
              "      <td>top</td>\n",
              "      <td>f1_fuel_2002_12_6_0_10</td>\n",
              "      <td>big stone</td>\n",
              "      <td>gas</td>\n",
              "      <td>mcf</td>\n",
              "    </tr>\n",
              "    <tr>\n",
              "      <td>freq</td>\n",
              "      <td>1</td>\n",
              "      <td>156</td>\n",
              "      <td>11486</td>\n",
              "      <td>11354</td>\n",
              "    </tr>\n",
              "  </tbody>\n",
              "</table>\n",
              "</div>"
            ],
            "text/plain": [
              "                     record_id plant_name_ferc1 fuel_type_code_pudl fuel_unit\n",
              "count                    29523            29523               29523     29343\n",
              "unique                   29523             2315                   6         9\n",
              "top     f1_fuel_2002_12_6_0_10        big stone                 gas       mcf\n",
              "freq                         1              156               11486     11354"
            ]
          },
          "metadata": {
            "tags": []
          },
          "execution_count": 47
        }
      ]
    },
    {
      "cell_type": "code",
      "metadata": {
        "id": "-KCFSV2anOSY",
        "colab_type": "code",
        "colab": {},
        "outputId": "0ea4a1ae-5796-49bf-93a0-7e6e03861f33"
      },
      "source": [
        "include.loc['top'] # to view highest values in  non-numerical columns"
      ],
      "execution_count": null,
      "outputs": [
        {
          "output_type": "execute_result",
          "data": {
            "text/plain": [
              "record_id              f1_fuel_2002_12_6_0_10\n",
              "plant_name_ferc1                    big stone\n",
              "fuel_type_code_pudl                       gas\n",
              "fuel_unit                                 mcf\n",
              "Name: top, dtype: object"
            ]
          },
          "metadata": {
            "tags": []
          },
          "execution_count": 50
        }
      ]
    },
    {
      "cell_type": "code",
      "metadata": {
        "id": "_C2IXks8nOSg",
        "colab_type": "code",
        "colab": {}
      },
      "source": [
        ""
      ],
      "execution_count": null,
      "outputs": []
    }
  ]
}